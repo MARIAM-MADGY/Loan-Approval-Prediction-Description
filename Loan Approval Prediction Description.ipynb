{
 "cells": [
  {
   "cell_type": "markdown",
   "id": "32d834ee",
   "metadata": {},
   "source": [
    "# 1. Importing Modules and Dataset\n"
   ]
  },
  {
   "cell_type": "code",
   "execution_count": null,
   "id": "81bf4e6b",
   "metadata": {},
   "outputs": [],
   "source": [
    "import pandas as pd\n",
    "import numpy as np\n",
    "import matplotlib.pyplot as plt\n",
    "import seaborn as sns\n",
    "import re\n",
    "import string\n",
    "import nltk\n",
    "from sklearn.utils import resample\n",
    "from sklearn.model_selection import train_test_split\n",
    "from sklearn.ensemble import RandomForestClassifier\n",
    "from sklearn.linear_model import LogisticRegression\n",
    "from sklearn.tree import DecisionTreeClassifier\n",
    "from sklearn.feature_extraction.text import TfidfVectorizer\n",
    "from nltk.corpus import stopwords\n",
    "from nltk.tokenize import word_tokenize\n",
    "from  sklearn.preprocessing import StandardScaler\n",
    "from sklearn.metrics import classification_report,accuracy_score\n",
    "from sklearn.model_selection import cross_val_score\n"
   ]
  },
  {
   "cell_type": "code",
   "execution_count": 2,
   "id": "a2d3e734",
   "metadata": {},
   "outputs": [
    {
     "data": {
      "text/html": [
       "<div>\n",
       "<style scoped>\n",
       "    .dataframe tbody tr th:only-of-type {\n",
       "        vertical-align: middle;\n",
       "    }\n",
       "\n",
       "    .dataframe tbody tr th {\n",
       "        vertical-align: top;\n",
       "    }\n",
       "\n",
       "    .dataframe thead th {\n",
       "        text-align: right;\n",
       "    }\n",
       "</style>\n",
       "<table border=\"1\" class=\"dataframe\">\n",
       "  <thead>\n",
       "    <tr style=\"text-align: right;\">\n",
       "      <th></th>\n",
       "      <th>Text</th>\n",
       "      <th>Income</th>\n",
       "      <th>Credit_Score</th>\n",
       "      <th>Loan_Amount</th>\n",
       "      <th>DTI_Ratio</th>\n",
       "      <th>Employment_Status</th>\n",
       "      <th>Approval</th>\n",
       "    </tr>\n",
       "  </thead>\n",
       "  <tbody>\n",
       "    <tr>\n",
       "      <th>0</th>\n",
       "      <td>I need a loan to pay for an international vaca...</td>\n",
       "      <td>26556</td>\n",
       "      <td>581</td>\n",
       "      <td>8314</td>\n",
       "      <td>79.26</td>\n",
       "      <td>employed</td>\n",
       "      <td>Rejected</td>\n",
       "    </tr>\n",
       "    <tr>\n",
       "      <th>1</th>\n",
       "      <td>I want to make home improvements like installi...</td>\n",
       "      <td>197392</td>\n",
       "      <td>389</td>\n",
       "      <td>111604</td>\n",
       "      <td>22.14</td>\n",
       "      <td>employed</td>\n",
       "      <td>Rejected</td>\n",
       "    </tr>\n",
       "    <tr>\n",
       "      <th>2</th>\n",
       "      <td>I need a loan for home renovation, including a...</td>\n",
       "      <td>44561</td>\n",
       "      <td>523</td>\n",
       "      <td>34118</td>\n",
       "      <td>45.44</td>\n",
       "      <td>employed</td>\n",
       "      <td>Rejected</td>\n",
       "    </tr>\n",
       "    <tr>\n",
       "      <th>3</th>\n",
       "      <td>I need funds to buy new furniture and applianc...</td>\n",
       "      <td>190363</td>\n",
       "      <td>729</td>\n",
       "      <td>118757</td>\n",
       "      <td>10.22</td>\n",
       "      <td>unemployed</td>\n",
       "      <td>Rejected</td>\n",
       "    </tr>\n",
       "    <tr>\n",
       "      <th>4</th>\n",
       "      <td>I need a loan to start a small business.</td>\n",
       "      <td>61853</td>\n",
       "      <td>732</td>\n",
       "      <td>19210</td>\n",
       "      <td>44.13</td>\n",
       "      <td>employed</td>\n",
       "      <td>Approved</td>\n",
       "    </tr>\n",
       "    <tr>\n",
       "      <th>...</th>\n",
       "      <td>...</td>\n",
       "      <td>...</td>\n",
       "      <td>...</td>\n",
       "      <td>...</td>\n",
       "      <td>...</td>\n",
       "      <td>...</td>\n",
       "      <td>...</td>\n",
       "    </tr>\n",
       "    <tr>\n",
       "      <th>23995</th>\n",
       "      <td>I need funds to pay for my daughter's college ...</td>\n",
       "      <td>195242</td>\n",
       "      <td>817</td>\n",
       "      <td>16403</td>\n",
       "      <td>24.32</td>\n",
       "      <td>employed</td>\n",
       "      <td>Approved</td>\n",
       "    </tr>\n",
       "    <tr>\n",
       "      <th>23996</th>\n",
       "      <td>I need financial assistance to launch my own Y...</td>\n",
       "      <td>150246</td>\n",
       "      <td>729</td>\n",
       "      <td>101572</td>\n",
       "      <td>9.97</td>\n",
       "      <td>employed</td>\n",
       "      <td>Rejected</td>\n",
       "    </tr>\n",
       "    <tr>\n",
       "      <th>23997</th>\n",
       "      <td>I need money to open a small bookstore and café.</td>\n",
       "      <td>64571</td>\n",
       "      <td>650</td>\n",
       "      <td>30533</td>\n",
       "      <td>57.35</td>\n",
       "      <td>employed</td>\n",
       "      <td>Rejected</td>\n",
       "    </tr>\n",
       "    <tr>\n",
       "      <th>23998</th>\n",
       "      <td>I want to buy a car for my rideshare business ...</td>\n",
       "      <td>115825</td>\n",
       "      <td>418</td>\n",
       "      <td>89837</td>\n",
       "      <td>10.37</td>\n",
       "      <td>unemployed</td>\n",
       "      <td>Rejected</td>\n",
       "    </tr>\n",
       "    <tr>\n",
       "      <th>23999</th>\n",
       "      <td>I need financial help to cover maternity and d...</td>\n",
       "      <td>180440</td>\n",
       "      <td>769</td>\n",
       "      <td>15259</td>\n",
       "      <td>15.06</td>\n",
       "      <td>employed</td>\n",
       "      <td>Approved</td>\n",
       "    </tr>\n",
       "  </tbody>\n",
       "</table>\n",
       "<p>24000 rows × 7 columns</p>\n",
       "</div>"
      ],
      "text/plain": [
       "                                                    Text  Income  \\\n",
       "0      I need a loan to pay for an international vaca...   26556   \n",
       "1      I want to make home improvements like installi...  197392   \n",
       "2      I need a loan for home renovation, including a...   44561   \n",
       "3      I need funds to buy new furniture and applianc...  190363   \n",
       "4               I need a loan to start a small business.   61853   \n",
       "...                                                  ...     ...   \n",
       "23995  I need funds to pay for my daughter's college ...  195242   \n",
       "23996  I need financial assistance to launch my own Y...  150246   \n",
       "23997   I need money to open a small bookstore and café.   64571   \n",
       "23998  I want to buy a car for my rideshare business ...  115825   \n",
       "23999  I need financial help to cover maternity and d...  180440   \n",
       "\n",
       "       Credit_Score  Loan_Amount  DTI_Ratio Employment_Status  Approval  \n",
       "0               581         8314      79.26          employed  Rejected  \n",
       "1               389       111604      22.14          employed  Rejected  \n",
       "2               523        34118      45.44          employed  Rejected  \n",
       "3               729       118757      10.22        unemployed  Rejected  \n",
       "4               732        19210      44.13          employed  Approved  \n",
       "...             ...          ...        ...               ...       ...  \n",
       "23995           817        16403      24.32          employed  Approved  \n",
       "23996           729       101572       9.97          employed  Rejected  \n",
       "23997           650        30533      57.35          employed  Rejected  \n",
       "23998           418        89837      10.37        unemployed  Rejected  \n",
       "23999           769        15259      15.06          employed  Approved  \n",
       "\n",
       "[24000 rows x 7 columns]"
      ]
     },
     "execution_count": 2,
     "metadata": {},
     "output_type": "execute_result"
    }
   ],
   "source": [
    "data=pd.read_csv(\"C:\\\\Users\\\\STAR TOP\\\\.vscode\\\\ML_elevvo_intership\\\\Task _4Loan Approval Prediction Description\\\\loan_data.csv\")\n",
    "data"
   ]
  },
  {
   "cell_type": "code",
   "execution_count": 3,
   "id": "de892815",
   "metadata": {},
   "outputs": [
    {
     "name": "stdout",
     "output_type": "stream",
     "text": [
      "<class 'pandas.core.frame.DataFrame'>\n",
      "RangeIndex: 24000 entries, 0 to 23999\n",
      "Data columns (total 7 columns):\n",
      " #   Column             Non-Null Count  Dtype  \n",
      "---  ------             --------------  -----  \n",
      " 0   Text               24000 non-null  object \n",
      " 1   Income             24000 non-null  int64  \n",
      " 2   Credit_Score       24000 non-null  int64  \n",
      " 3   Loan_Amount        24000 non-null  int64  \n",
      " 4   DTI_Ratio          24000 non-null  float64\n",
      " 5   Employment_Status  24000 non-null  object \n",
      " 6   Approval           24000 non-null  object \n",
      "dtypes: float64(1), int64(3), object(3)\n",
      "memory usage: 1.3+ MB\n"
     ]
    }
   ],
   "source": [
    "data.info()"
   ]
  },
  {
   "cell_type": "code",
   "execution_count": 4,
   "id": "7a09cb32",
   "metadata": {},
   "outputs": [
    {
     "data": {
      "text/plain": [
       "(24000, 7)"
      ]
     },
     "execution_count": 4,
     "metadata": {},
     "output_type": "execute_result"
    }
   ],
   "source": [
    "data.shape"
   ]
  },
  {
   "cell_type": "code",
   "execution_count": 5,
   "id": "cc7f0b10",
   "metadata": {},
   "outputs": [
    {
     "data": {
      "text/plain": [
       "Text                  object\n",
       "Income                 int64\n",
       "Credit_Score           int64\n",
       "Loan_Amount            int64\n",
       "DTI_Ratio            float64\n",
       "Employment_Status     object\n",
       "Approval              object\n",
       "dtype: object"
      ]
     },
     "execution_count": 5,
     "metadata": {},
     "output_type": "execute_result"
    }
   ],
   "source": [
    "data.dtypes"
   ]
  },
  {
   "cell_type": "code",
   "execution_count": 6,
   "id": "33cb8423",
   "metadata": {},
   "outputs": [
    {
     "data": {
      "text/html": [
       "<div>\n",
       "<style scoped>\n",
       "    .dataframe tbody tr th:only-of-type {\n",
       "        vertical-align: middle;\n",
       "    }\n",
       "\n",
       "    .dataframe tbody tr th {\n",
       "        vertical-align: top;\n",
       "    }\n",
       "\n",
       "    .dataframe thead th {\n",
       "        text-align: right;\n",
       "    }\n",
       "</style>\n",
       "<table border=\"1\" class=\"dataframe\">\n",
       "  <thead>\n",
       "    <tr style=\"text-align: right;\">\n",
       "      <th></th>\n",
       "      <th>Income</th>\n",
       "      <th>Credit_Score</th>\n",
       "      <th>Loan_Amount</th>\n",
       "      <th>DTI_Ratio</th>\n",
       "    </tr>\n",
       "  </thead>\n",
       "  <tbody>\n",
       "    <tr>\n",
       "      <th>count</th>\n",
       "      <td>24000.000000</td>\n",
       "      <td>24000.000000</td>\n",
       "      <td>24000.000000</td>\n",
       "      <td>24000.000000</td>\n",
       "    </tr>\n",
       "    <tr>\n",
       "      <th>mean</th>\n",
       "      <td>110377.552708</td>\n",
       "      <td>575.720333</td>\n",
       "      <td>44356.154833</td>\n",
       "      <td>34.719167</td>\n",
       "    </tr>\n",
       "    <tr>\n",
       "      <th>std</th>\n",
       "      <td>51729.677627</td>\n",
       "      <td>159.227621</td>\n",
       "      <td>34666.604785</td>\n",
       "      <td>32.322471</td>\n",
       "    </tr>\n",
       "    <tr>\n",
       "      <th>min</th>\n",
       "      <td>20001.000000</td>\n",
       "      <td>300.000000</td>\n",
       "      <td>1005.000000</td>\n",
       "      <td>2.530000</td>\n",
       "    </tr>\n",
       "    <tr>\n",
       "      <th>25%</th>\n",
       "      <td>65635.750000</td>\n",
       "      <td>437.000000</td>\n",
       "      <td>16212.000000</td>\n",
       "      <td>14.507500</td>\n",
       "    </tr>\n",
       "    <tr>\n",
       "      <th>50%</th>\n",
       "      <td>110464.000000</td>\n",
       "      <td>575.000000</td>\n",
       "      <td>35207.000000</td>\n",
       "      <td>24.860000</td>\n",
       "    </tr>\n",
       "    <tr>\n",
       "      <th>75%</th>\n",
       "      <td>155187.000000</td>\n",
       "      <td>715.000000</td>\n",
       "      <td>65622.750000</td>\n",
       "      <td>41.840000</td>\n",
       "    </tr>\n",
       "    <tr>\n",
       "      <th>max</th>\n",
       "      <td>200000.000000</td>\n",
       "      <td>850.000000</td>\n",
       "      <td>158834.000000</td>\n",
       "      <td>246.330000</td>\n",
       "    </tr>\n",
       "  </tbody>\n",
       "</table>\n",
       "</div>"
      ],
      "text/plain": [
       "              Income  Credit_Score    Loan_Amount     DTI_Ratio\n",
       "count   24000.000000  24000.000000   24000.000000  24000.000000\n",
       "mean   110377.552708    575.720333   44356.154833     34.719167\n",
       "std     51729.677627    159.227621   34666.604785     32.322471\n",
       "min     20001.000000    300.000000    1005.000000      2.530000\n",
       "25%     65635.750000    437.000000   16212.000000     14.507500\n",
       "50%    110464.000000    575.000000   35207.000000     24.860000\n",
       "75%    155187.000000    715.000000   65622.750000     41.840000\n",
       "max    200000.000000    850.000000  158834.000000    246.330000"
      ]
     },
     "execution_count": 6,
     "metadata": {},
     "output_type": "execute_result"
    }
   ],
   "source": [
    "data.describe()"
   ]
  },
  {
   "cell_type": "markdown",
   "id": "9ed679ac",
   "metadata": {},
   "source": [
    "data have:24000 rows , 7 columns\n",
    "\n",
    "and 3-->int64, 1-->float64 , 3-->object\n"
   ]
  },
  {
   "cell_type": "markdown",
   "id": "219ac97b",
   "metadata": {},
   "source": [
    "### Checking for Missing Value"
   ]
  },
  {
   "cell_type": "code",
   "execution_count": 7,
   "id": "46064863",
   "metadata": {},
   "outputs": [
    {
     "data": {
      "text/plain": [
       "Text                 0\n",
       "Income               0\n",
       "Credit_Score         0\n",
       "Loan_Amount          0\n",
       "DTI_Ratio            0\n",
       "Employment_Status    0\n",
       "Approval             0\n",
       "dtype: int64"
      ]
     },
     "execution_count": 7,
     "metadata": {},
     "output_type": "execute_result"
    }
   ],
   "source": [
    "data.isnull().sum()"
   ]
  },
  {
   "cell_type": "markdown",
   "id": "64694a8b",
   "metadata": {},
   "source": [
    "No Missing value in data"
   ]
  },
  {
   "cell_type": "markdown",
   "id": "d71bfead",
   "metadata": {},
   "source": [
    "### Check the duplicated value"
   ]
  },
  {
   "cell_type": "code",
   "execution_count": 8,
   "id": "e29cf880",
   "metadata": {},
   "outputs": [
    {
     "data": {
      "text/plain": [
       "0"
      ]
     },
     "execution_count": 8,
     "metadata": {},
     "output_type": "execute_result"
    }
   ],
   "source": [
    "data.duplicated().sum()"
   ]
  },
  {
   "cell_type": "markdown",
   "id": "f9172cd2",
   "metadata": {},
   "source": [
    "No Duplicated Value in data"
   ]
  },
  {
   "cell_type": "markdown",
   "id": "a6853c31",
   "metadata": {},
   "source": [
    "# Preprocess the text data\n"
   ]
  },
  {
   "cell_type": "code",
   "execution_count": 9,
   "id": "1405f563",
   "metadata": {},
   "outputs": [],
   "source": [
    "def preprocess_text(Text):\n",
    "    text=Text.lower()\n",
    "    text=re.sub(f\"[{string.punctuation}]\",\"\",text)\n",
    "    stop_words=set(stopwords.words(\"english\"))\n",
    "    tokens=word_tokenize(text)\n",
    "    filtered_tokens=[word for word in tokens if word not in stop_words]\n",
    "    return \" \".join(filtered_tokens)\n",
    "\n",
    "data[\"clean_text\"]=data[\"Text\"].apply(preprocess_text)"
   ]
  },
  {
   "cell_type": "code",
   "execution_count": 10,
   "id": "a35333a3",
   "metadata": {},
   "outputs": [
    {
     "data": {
      "text/plain": [
       "0          need loan pay international vacation family\n",
       "1    want make home improvements like installing so...\n",
       "2    need loan home renovation including kitchen re...\n",
       "3        need funds buy new furniture appliances house\n",
       "4                       need loan start small business\n",
       "Name: clean_text, dtype: object"
      ]
     },
     "execution_count": 10,
     "metadata": {},
     "output_type": "execute_result"
    }
   ],
   "source": [
    "data[\"clean_text\"].head()"
   ]
  },
  {
   "cell_type": "markdown",
   "id": "3c347525",
   "metadata": {},
   "source": [
    "# Encode categorical variables\n",
    " "
   ]
  },
  {
   "cell_type": "code",
   "execution_count": 11,
   "id": "259ea6ad",
   "metadata": {},
   "outputs": [],
   "source": [
    "data[\"Employment_Status\"]=data[\"Employment_Status\"].replace({\"unemployed\":0,\"employed\":1}).astype(int)\n",
    "data[\"Approval\"]=data[\"Approval\"].replace({\"Rejected\":0,\"Approved\":1}).astype(int)"
   ]
  },
  {
   "cell_type": "code",
   "execution_count": 12,
   "id": "a446c0c6",
   "metadata": {},
   "outputs": [
    {
     "data": {
      "text/plain": [
       "Text                  object\n",
       "Income                 int64\n",
       "Credit_Score           int64\n",
       "Loan_Amount            int64\n",
       "DTI_Ratio            float64\n",
       "Employment_Status      int32\n",
       "Approval               int32\n",
       "clean_text            object\n",
       "dtype: object"
      ]
     },
     "execution_count": 12,
     "metadata": {},
     "output_type": "execute_result"
    }
   ],
   "source": [
    "data.dtypes"
   ]
  },
  {
   "cell_type": "code",
   "execution_count": 13,
   "id": "40f3a846",
   "metadata": {},
   "outputs": [
    {
     "data": {
      "text/plain": [
       "Employment_Status\n",
       "0    12007\n",
       "1    11993\n",
       "Name: count, dtype: int64"
      ]
     },
     "execution_count": 13,
     "metadata": {},
     "output_type": "execute_result"
    }
   ],
   "source": [
    "data[\"Employment_Status\"].value_counts()"
   ]
  },
  {
   "cell_type": "code",
   "execution_count": 14,
   "id": "68fe26de",
   "metadata": {},
   "outputs": [
    {
     "data": {
      "text/plain": [
       "Approval\n",
       "0    20067\n",
       "1     3933\n",
       "Name: count, dtype: int64"
      ]
     },
     "execution_count": 14,
     "metadata": {},
     "output_type": "execute_result"
    }
   ],
   "source": [
    "data[\"Approval\"].value_counts()"
   ]
  },
  {
   "cell_type": "markdown",
   "id": "cbb3e36b",
   "metadata": {},
   "source": [
    "# Distribution Analysis of Employment Status and Loan Approval\n",
    "\n"
   ]
  },
  {
   "cell_type": "code",
   "execution_count": 15,
   "id": "f2d23b91",
   "metadata": {},
   "outputs": [
    {
     "data": {
      "image/png": "[encoded data removed]",
      "text/plain": [
       "<Figure size 1500x500 with 2 Axes>"
      ]
     },
     "metadata": {},
     "output_type": "display_data"
    }
   ],
   "source": [
    "categorical_features = ['Employment_Status', 'Approval']\n",
    "\n",
    "fig, axes = plt.subplots(1, len(categorical_features), figsize=(15, 5))\n",
    "\n",
    "for ax, col in zip(axes, categorical_features):\n",
    "    data[col].value_counts().plot(kind='bar', ax=ax)\n",
    "    ax.set_title(f\"Distribution of {col}\")\n",
    "    ax.set_xlabel(col)\n",
    "    ax.set_ylabel(\"Count\")\n",
    "\n",
    "plt.tight_layout()\n",
    "plt.show()\n"
   ]
  },
  {
   "cell_type": "code",
   "execution_count": 16,
   "id": "2c80db83",
   "metadata": {},
   "outputs": [
    {
     "data": {
      "image/png": "[encoded data removed]",
      "text/plain": [
       "<Figure size 640x480 with 1 Axes>"
      ]
     },
     "metadata": {},
     "output_type": "display_data"
    }
   ],
   "source": [
    "counts=data[\"Approval\"].value_counts()\n",
    "labels=[\"Rejected\",\"Approved\"]\n",
    "sizes=[counts[0],counts[1]]\n",
    "\n",
    "fig,ax=plt.subplots()\n",
    "ax.pie(sizes,labels=labels,autopct=\"1.1f%%\",startangle=90)\n",
    "ax.set_title('Class Distribution Before Balancing')\n",
    "\n",
    "plt.savefig('Class Distribution Before Balancing.png')\n",
    "plt.show()"
   ]
  },
  {
   "cell_type": "markdown",
   "id": "255260dd",
   "metadata": {},
   "source": [
    "Employment_Status: The distribution appears balanced, as the counts for all categories are within a similar range (no single category dominates). \n",
    "\n",
    "Approval: The distribution is highly imbalanced, with one category (likely \"Approved\") significantly outweighing the other(s). \n"
   ]
  },
  {
   "cell_type": "markdown",
   "id": "092a1430",
   "metadata": {},
   "source": [
    "## Balancing the Approval Data_Set"
   ]
  },
  {
   "cell_type": "code",
   "execution_count": 17,
   "id": "3e2c37fc",
   "metadata": {},
   "outputs": [
    {
     "name": "stdout",
     "output_type": "stream",
     "text": [
      "\n",
      "Balanced Class Distribution :\n",
      "Approval\n",
      "0    3933\n",
      "1    3933\n",
      "Name: count, dtype: int64\n"
     ]
    }
   ],
   "source": [
    "reject=data[data[\"Approval\"]==0]\n",
    "approv=data[data[\"Approval\"]==1]\n",
    "\n",
    "Reduce_rejected=resample(\n",
    "    reject,\n",
    "    replace=False,\n",
    "    n_samples=len(approv),\n",
    "    random_state=42\n",
    ")\n",
    "new_data=pd.concat([Reduce_rejected,approv])\n",
    "\n",
    "print(\"\\nBalanced Class Distribution :\")\n",
    "print(new_data[\"Approval\"].value_counts())"
   ]
  },
  {
   "cell_type": "code",
   "execution_count": 18,
   "id": "2fa4dc61",
   "metadata": {},
   "outputs": [
    {
     "data": {
      "image/png": "[encoded data removed]",
      "text/plain": [
       "<Figure size 640x480 with 1 Axes>"
      ]
     },
     "metadata": {},
     "output_type": "display_data"
    }
   ],
   "source": [
    "counts=new_data[\"Approval\"].value_counts()\n",
    "labels=[\"Rejected\",\"Approved\"]\n",
    "sizes=[counts[0],counts[1]]\n",
    "\n",
    "fig,ax=plt.subplots()\n",
    "ax.pie(sizes,labels=labels,autopct=\"1.1f%%\",startangle=90)\n",
    "ax.set_title('Class Distribution After Balancing')\n",
    "\n",
    "plt.savefig('Class Distribution After Balancing.png')\n",
    "plt.show()"
   ]
  },
  {
   "cell_type": "markdown",
   "id": "882ad8ea",
   "metadata": {},
   "source": [
    "## feature extraction"
   ]
  },
  {
   "cell_type": "code",
   "execution_count": 19,
   "id": "ea08fadd",
   "metadata": {},
   "outputs": [],
   "source": [
    "vectorize=TfidfVectorizer()\n",
    "x_text=vectorize.fit_transform(new_data[\"clean_text\"]).toarray()"
   ]
  },
  {
   "cell_type": "markdown",
   "id": "eb5a851f",
   "metadata": {},
   "source": [
    "## Scaler for numerical data"
   ]
  },
  {
   "cell_type": "code",
   "execution_count": 20,
   "id": "ba93d35c",
   "metadata": {},
   "outputs": [],
   "source": [
    "scaler=StandardScaler()\n",
    "structure = new_data[[\"Income\", \"Credit_Score\", \"Loan_Amount\", \"DTI_Ratio\", \"Employment_Status\"]]\n",
    "x_structur = scaler.fit_transform(structure)\n"
   ]
  },
  {
   "cell_type": "code",
   "execution_count": 21,
   "id": "132f0eec",
   "metadata": {},
   "outputs": [
    {
     "name": "stdout",
     "output_type": "stream",
     "text": [
      "[[ 0.          0.          0.         ... -1.19244429  2.80739835\n",
      "   0.64974301]\n",
      " [ 0.          0.          0.         ... -1.0627097   1.46571763\n",
      "  -1.53907005]\n",
      " [ 0.          0.          0.         ... -1.0597117  -0.384608\n",
      "   0.64974301]\n",
      " ...\n",
      " [ 0.          0.          0.         ...  1.98521675 -0.93737007\n",
      "   0.64974301]\n",
      " [ 0.          0.          0.         ... -0.8046922  -0.19961251\n",
      "   0.64974301]\n",
      " [ 0.          0.          0.         ... -0.84079445 -0.54291075\n",
      "   0.64974301]]\n"
     ]
    }
   ],
   "source": [
    "x_combined = np.hstack((x_text, x_structur))\n",
    "print(x_combined)\n"
   ]
  },
  {
   "cell_type": "markdown",
   "id": "a49f242b",
   "metadata": {},
   "source": [
    "# Build Model"
   ]
  },
  {
   "cell_type": "code",
   "execution_count": 22,
   "id": "b7a775b7",
   "metadata": {},
   "outputs": [
    {
     "name": "stdout",
     "output_type": "stream",
     "text": [
      "Classification Report :\n",
      "               precision    recall  f1-score   support\n",
      "\n",
      "           0       0.99      0.96      0.98       787\n",
      "           1       0.96      0.99      0.98       787\n",
      "\n",
      "    accuracy                           0.98      1574\n",
      "   macro avg       0.98      0.98      0.98      1574\n",
      "weighted avg       0.98      0.98      0.98      1574\n",
      "\n"
     ]
    }
   ],
   "source": [
    "x=x_combined\n",
    "y=new_data[\"Approval\"]\n",
    "x_train,x_test,y_train,y_test=train_test_split(x,y,test_size=0.2,random_state=42,stratify=y)\n",
    "model=RandomForestClassifier(random_state=42)\n",
    "model.fit(x_train,y_train)\n",
    "\n",
    "y_pred=model.predict(x_test)\n",
    "print(\"Classification Report :\\n\", classification_report(y_test, y_pred))\n"
   ]
  },
  {
   "cell_type": "markdown",
   "id": "4afaec70",
   "metadata": {},
   "source": [
    "we can notice:\n",
    "* Precision and Recall are both above 0.96 for each class, showing the model’s strong ability to correctly identify both rejected and approved loans.\n",
    "\n",
    "* The F1-Score is 0.98 for both classes, indicating a well-balanced trade-off between precision and recall.\n",
    "\n",
    "* The overall accuracy reached 98%, highlighting the model’s effectiveness in predicting loan approval outcomes after resolving the class imbalance.\n"
   ]
  },
  {
   "cell_type": "markdown",
   "id": "dfbd288d",
   "metadata": {},
   "source": [
    "# Get Training & Test Score"
   ]
  },
  {
   "cell_type": "code",
   "execution_count": 23,
   "id": "0656c54a",
   "metadata": {},
   "outputs": [
    {
     "name": "stdout",
     "output_type": "stream",
     "text": [
      "Training Accuracy: 100.00%\n",
      "Testing Accuracy: 97.71%\n"
     ]
    }
   ],
   "source": [
    "y_train_pred=model.predict(x_train)\n",
    "train_accuracy=accuracy_score(y_train,y_train_pred)\n",
    "print(f\"Training Accuracy: {train_accuracy * 100:.2f}%\")\n",
    "\n",
    "y_test_pred=model.predict(x_test)\n",
    "test_accuracy=accuracy_score(y_test,y_test_pred)\n",
    "print(f\"Testing Accuracy: {test_accuracy * 100:.2f}%\")\n",
    "\n"
   ]
  },
  {
   "cell_type": "markdown",
   "id": "5c44e489",
   "metadata": {},
   "source": [
    "we can see we have Overfitting in the model so we apply\n",
    "Cross Validation"
   ]
  },
  {
   "cell_type": "markdown",
   "id": "041efadf",
   "metadata": {},
   "source": [
    "# Cross Validation"
   ]
  },
  {
   "cell_type": "code",
   "execution_count": 24,
   "id": "a1035896",
   "metadata": {},
   "outputs": [
    {
     "name": "stdout",
     "output_type": "stream",
     "text": [
      "Cross-Validation Scores: [0.97585769 0.9726637  0.97965671 0.97202797 0.97202797]\n",
      "Mean Cross-Validation Accuracy: 0.974446807668478\n"
     ]
    }
   ],
   "source": [
    "cv=cross_val_score(model,x_combined,y,cv=5,scoring=\"accuracy\")\n",
    "print(\"Cross-Validation Scores:\", cv)\n",
    "print(\"Mean Cross-Validation Accuracy:\", cv.mean())"
   ]
  },
  {
   "cell_type": "markdown",
   "id": "28db365a",
   "metadata": {},
   "source": [
    "\n",
    "Cross-Validation Results:\n",
    "The 5-Fold Cross-Validation accuracies range from 97.20% to 97.97%, with a mean accuracy of 97.44%.\n",
    "The small variation between folds indicates that the model’s performance is stable and consistent across different subsets of the data.\n",
    "Moreover, the close match between the mean cross-validation accuracy (97.44%) and the test accuracy (97.71%) suggests that overfitting is minimal, and the model generalizes well to unseen data.\n",
    "\n"
   ]
  },
  {
   "cell_type": "markdown",
   "id": "e4b46618",
   "metadata": {},
   "source": [
    "#  Bonus:Apply LogisticRegression"
   ]
  },
  {
   "cell_type": "code",
   "execution_count": 26,
   "id": "3f27054d",
   "metadata": {},
   "outputs": [
    {
     "name": "stdout",
     "output_type": "stream",
     "text": [
      "Classification Report (Logistic Regression):\n",
      "               precision    recall  f1-score   support\n",
      "\n",
      "           0       0.95      0.91      0.93       787\n",
      "           1       0.91      0.95      0.93       787\n",
      "\n",
      "    accuracy                           0.93      1574\n",
      "   macro avg       0.93      0.93      0.93      1574\n",
      "weighted avg       0.93      0.93      0.93      1574\n",
      "\n"
     ]
    }
   ],
   "source": [
    "model_2= LogisticRegression(max_iter=1000, random_state=42)\n",
    "model_2.fit(x_train, y_train)\n",
    "\n",
    "y_pred = model_2.predict(x_test)\n",
    "print(\"Classification Report (Logistic Regression):\\n\", classification_report(y_test, y_pred))\n"
   ]
  },
  {
   "cell_type": "code",
   "execution_count": 27,
   "id": "6d93599b",
   "metadata": {},
   "outputs": [
    {
     "name": "stdout",
     "output_type": "stream",
     "text": [
      "Training Accuracy: 92.24%\n",
      "Testing Accuracy: 92.82%\n"
     ]
    }
   ],
   "source": [
    "y_train_pred=model_2.predict(x_train)\n",
    "train_accuracy=accuracy_score(y_train,y_train_pred)\n",
    "print(f\"Training Accuracy: {train_accuracy * 100:.2f}%\")\n",
    "\n",
    "y_test_pred=model_2.predict(x_test)\n",
    "test_accuracy=accuracy_score(y_test,y_test_pred)\n",
    "print(f\"Testing Accuracy: {test_accuracy * 100:.2f}%\")"
   ]
  },
  {
   "cell_type": "markdown",
   "id": "9453989b",
   "metadata": {},
   "source": [
    "Logistic Regression demonstrated strong and balanced performance, achieving close accuracy across training and test data with minimal overlap, demonstrating no overfitting issues and good generalization."
   ]
  },
  {
   "cell_type": "markdown",
   "id": "85b65258",
   "metadata": {},
   "source": [
    "# Bonus:Apply Decision_tree"
   ]
  },
  {
   "cell_type": "code",
   "execution_count": 28,
   "id": "6ae345d2",
   "metadata": {},
   "outputs": [
    {
     "name": "stdout",
     "output_type": "stream",
     "text": [
      "Classification Report (Decision Tree):\n",
      "               precision    recall  f1-score   support\n",
      "\n",
      "           0       0.99      0.99      0.99       787\n",
      "           1       0.99      0.99      0.99       787\n",
      "\n",
      "    accuracy                           0.99      1574\n",
      "   macro avg       0.99      0.99      0.99      1574\n",
      "weighted avg       0.99      0.99      0.99      1574\n",
      "\n"
     ]
    }
   ],
   "source": [
    "from sklearn.tree import DecisionTreeClassifier\n",
    "\n",
    "model_3= DecisionTreeClassifier(random_state=42)\n",
    "model_3.fit(x_train, y_train)\n",
    "\n",
    "y_pred = model_3.predict(x_test)\n",
    "print(\"Classification Report (Decision Tree):\\n\", classification_report(y_test, y_pred))\n"
   ]
  },
  {
   "cell_type": "code",
   "execution_count": 29,
   "id": "a55bdb69",
   "metadata": {},
   "outputs": [
    {
     "name": "stdout",
     "output_type": "stream",
     "text": [
      "Training Accuracy: 100.00%\n",
      "Testing Accuracy: 99.17%\n"
     ]
    }
   ],
   "source": [
    "y_train_pred=model_3.predict(x_train)\n",
    "train_accuracy=accuracy_score(y_train,y_train_pred)\n",
    "print(f\"Training Accuracy: {train_accuracy * 100:.2f}%\")\n",
    "\n",
    "y_test_pred=model_3.predict(x_test)\n",
    "test_accuracy=accuracy_score(y_test,y_test_pred)\n",
    "print(f\"Testing Accuracy: {test_accuracy * 100:.2f}%\")"
   ]
  },
  {
   "cell_type": "markdown",
   "id": "6054239e",
   "metadata": {},
   "source": [
    "we can see same problem in RandomForest so we can try cross validaition for Decision tree"
   ]
  },
  {
   "cell_type": "code",
   "execution_count": 30,
   "id": "00a902f6",
   "metadata": {},
   "outputs": [
    {
     "name": "stdout",
     "output_type": "stream",
     "text": [
      "Cross-Validation Scores: [0.98919949 0.9885569  0.99173554 0.99300699 0.99109981]\n",
      "Mean Cross-Validation Accuracy: 0.9907197457734596\n"
     ]
    }
   ],
   "source": [
    "cv=cross_val_score(model_3,x_combined,y,cv=5,scoring=\"accuracy\")\n",
    "print(\"Cross-Validation Scores:\", cv)\n",
    "print(\"Mean Cross-Validation Accuracy:\", cv.mean())"
   ]
  },
  {
   "cell_type": "markdown",
   "id": "09eda5b3",
   "metadata": {},
   "source": [
    "The Decision Tree model achieved extremely high accuracy (~99%) with consistent cross-validation results, indicating strong performance but with a potential risk of overfitting"
   ]
  },
  {
   "cell_type": "markdown",
   "id": "8301f256",
   "metadata": {},
   "source": [
    "\n",
    "Comparison of Models:\n",
    "The Decision Tree achieved the highest mean cross-validation accuracy (~99.07%), followed by Random Forest (~97.44%), and Logistic Regression (~93% test accuracy). While Decision Tree and Random Forest show excellent performance, their very high training accuracy suggests a risk of overfitting, unlike Logistic Regression which maintained a more balanced generalization.\n",
    "\n"
   ]
  }
 ],
 "metadata": {
  "kernelspec": {
   "display_name": "base",
   "language": "python",
   "name": "python3"
  },
  "language_info": {
   "codemirror_mode": {
    "name": "ipython",
    "version": 3
   },
   "file_extension": ".py",
   "mimetype": "text/x-python",
   "name": "python",
   "nbconvert_exporter": "python",
   "pygments_lexer": "ipython3",
   "version": "3.11.5"
  }
 },
 "nbformat": 4,
 "nbformat_minor": 5
}
